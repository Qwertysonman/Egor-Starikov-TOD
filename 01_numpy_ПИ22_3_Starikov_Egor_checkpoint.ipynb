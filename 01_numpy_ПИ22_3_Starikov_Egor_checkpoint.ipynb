{
  "cells": [
    {
      "cell_type": "markdown",
      "metadata": {
        "id": "6WfOUax_WZaW"
      },
      "source": [
        "# Numpy"
      ]
    },
    {
      "cell_type": "markdown",
      "metadata": {
        "id": "QxEBvx0pWZaa"
      },
      "source": [
        "Материалы:\n",
        "* Макрушин С.В. \"Лекция 1: Библиотека Numpy\"\n",
        "* https://numpy.org/doc/stable/user/index.html\n",
        "* https://numpy.org/doc/stable/reference/index.html"
      ]
    },
    {
      "cell_type": "markdown",
      "metadata": {
        "id": "N2Pvwew7WZab"
      },
      "source": [
        "## Задачи для совместного разбора"
      ]
    },
    {
      "cell_type": "code",
      "source": [
        "import numpy as np"
      ],
      "metadata": {
        "id": "9bUDDL2pR9ed"
      },
      "execution_count": null,
      "outputs": []
    },
    {
      "cell_type": "markdown",
      "metadata": {
        "id": "ahnQCKyJWZab"
      },
      "source": [
        "1. Сгенерировать двухмерный массив `arr` размерности (4, 7), состоящий из случайных действительных чисел, равномерно распределенных в диапазоне от 0 до 20. Нормализовать значения массива с помощью преобразования вида  $𝑎𝑥+𝑏$  так, что после нормализации максимальный элемент масcива будет равен 1.0, минимальный 0.0"
      ]
    },
    {
      "cell_type": "code",
      "execution_count": null,
      "metadata": {
        "id": "wKPPJipCWZac",
        "colab": {
          "base_uri": "https://localhost:8080/"
        },
        "outputId": "fae6b2dc-d7ad-4d55-f678-f93463251c6e"
      },
      "outputs": [
        {
          "output_type": "stream",
          "name": "stdout",
          "text": [
            "[[1.         0.19079395 0.09702492 0.35494983 0.4993299  0.49824847\n",
            "  0.49292407]\n",
            " [0.06974839 0.72690689 0.955821   0.06847904 0.76463558 0.06546705\n",
            "  0.64665583]\n",
            " [0.         0.88177132 0.05599777 0.38785035 0.27975579 0.2629361\n",
            "  0.24825218]\n",
            " [0.51972136 0.35197894 0.92459473 0.97236321 0.24747457 0.89917075\n",
            "  0.48698983]]\n"
          ]
        }
      ],
      "source": [
        "data1 = np.random.uniform(0, 20, 28).reshape(4, 7)\n",
        "masiv_read1 = (data1 - np.min(data1)) / (np.max(data1) - np.min(data1))\n",
        "print(masiv_read1)"
      ]
    },
    {
      "cell_type": "markdown",
      "metadata": {
        "id": "sX3zC7sEWZac"
      },
      "source": [
        "2. Создать матрицу 8 на 10 из случайных целых (используя модуль `numpy.random`) чисел из диапозона от 0 до 10 и найти в ней строку (ее индекс и вывести саму строку), в которой сумма значений минимальна."
      ]
    },
    {
      "cell_type": "code",
      "source": [
        "matric = np.random.randint(0, 11, (8,10))\n",
        "print(np.argsort(matric.sum(axis = 1))[0])"
      ],
      "metadata": {
        "colab": {
          "base_uri": "https://localhost:8080/"
        },
        "id": "JoiH6CHrXShO",
        "outputId": "3bb54bc4-010f-4edc-fc6c-d1beb8d8c778"
      },
      "execution_count": null,
      "outputs": [
        {
          "output_type": "stream",
          "name": "stdout",
          "text": [
            "6\n"
          ]
        }
      ]
    },
    {
      "cell_type": "markdown",
      "metadata": {
        "id": "2YZfqZGSWZad"
      },
      "source": [
        "3. Найти евклидово расстояние между двумя одномерными векторами одинаковой размерности."
      ]
    },
    {
      "cell_type": "code",
      "source": [
        "vectors = np.random.randint(0, 11, (2, 4))\n",
        "print(np.linalg.norm(vectors[1] - vectors[0]))"
      ],
      "metadata": {
        "colab": {
          "base_uri": "https://localhost:8080/"
        },
        "id": "ItruBVCSXTDs",
        "outputId": "798d8af8-245e-4ff9-b920-618056e32a54"
      },
      "execution_count": null,
      "outputs": [
        {
          "output_type": "stream",
          "name": "stdout",
          "text": [
            "6.48074069840786\n"
          ]
        }
      ]
    },
    {
      "cell_type": "markdown",
      "metadata": {
        "id": "MdHaAmXLWZad"
      },
      "source": [
        "4. Решить матричное уравнение `A*X*B=-C` - найти матрицу `X`. Где `A = [[-1, 2, 4], [-3, 1, 2], [-3, 0, 1]]`, `B=[[3, -1], [2, 1]]`, `C=[[7, 21], [11, 8], [8, 4]]`."
      ]
    },
    {
      "cell_type": "code",
      "source": [
        "a = np.array([[-1, 2, 4], [-3, 1, 2], [-3, 0, 1]])\n",
        "b = np.array([[3, -1], [2, 1]])\n",
        "c = np.array([[7, 21], [11, 8], [8, 4]])\n",
        "print(np.around(np.linalg.inv(a) @ (c * (-1)) @ np.linalg.inv(b)))"
      ],
      "metadata": {
        "colab": {
          "base_uri": "https://localhost:8080/"
        },
        "id": "_dhLbYHDXTlA",
        "outputId": "dba4a3db-556e-40c6-ae08-90bd93fd3891"
      },
      "execution_count": null,
      "outputs": [
        {
          "output_type": "stream",
          "name": "stdout",
          "text": [
            "[[ 1.  0.]\n",
            " [-2.  1.]\n",
            " [ 3. -4.]]\n"
          ]
        }
      ]
    },
    {
      "cell_type": "markdown",
      "metadata": {
        "id": "92nn1kAoWZae"
      },
      "source": [
        "## Лабораторная работа №1"
      ]
    },
    {
      "cell_type": "code",
      "source": [
        "import numpy as np"
      ],
      "metadata": {
        "id": "cSNp5CrNZYPW"
      },
      "execution_count": null,
      "outputs": []
    },
    {
      "cell_type": "markdown",
      "metadata": {
        "id": "KVIJcrB4WZae"
      },
      "source": [
        "Замечание: при решении данных задач не подразумевается использования циклов или генераторов Python, если в задании не сказано обратного. Решение должно опираться на использования функционала библиотеки `numpy`."
      ]
    },
    {
      "cell_type": "markdown",
      "metadata": {
        "id": "KuMMGXufWZaf"
      },
      "source": [
        "1. Файл `minutes_n_ingredients.csv` содержит информацию об идентификаторе рецепта, времени его выполнения в минутах и количестве необходимых ингредиентов. Считайте данные из этого файла в виде массива `numpy` типа `int32`, используя `np.loadtxt`. Выведите на экран первые 5 строк массива."
      ]
    },
    {
      "cell_type": "code",
      "source": [
        "f = np.loadtxt('minutes_n_ingredients.csv', dtype = 'int32', skiprows = 1, delimiter = ',')\n",
        "print(f[:5])"
      ],
      "metadata": {
        "colab": {
          "base_uri": "https://localhost:8080/"
        },
        "id": "EXEg7binYDJq",
        "outputId": "8662aa4f-32e8-464a-e3b2-e2bc2b1a4043"
      },
      "execution_count": null,
      "outputs": [
        {
          "output_type": "stream",
          "name": "stdout",
          "text": [
            "[[127244     60     16]\n",
            " [ 23891     25      7]\n",
            " [ 94746     10      6]\n",
            " [ 67660      5      6]\n",
            " [157911     60     14]]\n"
          ]
        }
      ]
    },
    {
      "cell_type": "markdown",
      "metadata": {
        "id": "DRTH9XZiWZaf"
      },
      "source": [
        "2. Вычислите среднее значение, минимум, максимум и медиану по каждому из столбцов, кроме первого."
      ]
    },
    {
      "cell_type": "code",
      "source": [
        "print(f'Среднее значение 2 столбца: {np.mean(f[:, 1])}, Cреднее значение 3 столбца {np.mean(f[:, 2])}')\n",
        "print(f'Минимальное значение 2 столбца: {np.min(f[:, 1])}, Минимальное значение 3 столбца {np.min(f[:, 2])}')\n",
        "print(f'Максимальное значение 2 столбца: {np.max(f[:, 1])}, Максимальное значение 3 столбца {np.max(f[:, 2])}')\n",
        "print(f'Медиана 2 столбца: {np.median(f[:, 1])}, Медиана 3 столбца {np.median(f[:, 2])}')"
      ],
      "metadata": {
        "colab": {
          "base_uri": "https://localhost:8080/"
        },
        "id": "6BNzmlrrdmsc",
        "outputId": "4fa31693-e295-4c6c-b443-6454ac40b4fc"
      },
      "execution_count": null,
      "outputs": [
        {
          "output_type": "stream",
          "name": "stdout",
          "text": [
            "Среднее значение 2 столбца: 21601.00169, Cреднее значение 3 столбца 9.05528\n",
            "Минимальное значение 2 столбца: 0, Минимальное значение 3 столбца 1\n",
            "Максимальное значение 2 столбца: 2147483647, Максимальное значение 3 столбца 39\n",
            "Медиана 2 столбца: 40.0, Медиана 3 столбца 9.0\n"
          ]
        }
      ]
    },
    {
      "cell_type": "markdown",
      "metadata": {
        "id": "Tpj8j64TWZaf"
      },
      "source": [
        "3. Ограничьте сверху значения продолжительности выполнения рецепта значением квантиля $q_{0.75}$. "
      ]
    },
    {
      "cell_type": "code",
      "source": [
        "lim_by_quant = f.copy()\n",
        "quant = np.quantile(lim_by_quant[:, 1], .75)\n",
        "lim_by_quant[lim_by_quant[:, 1] > quant] = quant\n",
        "print(lim_by_quant)"
      ],
      "metadata": {
        "colab": {
          "base_uri": "https://localhost:8080/"
        },
        "id": "WRJo-sxEfp0g",
        "outputId": "fb2661cd-8d89-4b37-aafe-d2909ab1d082"
      },
      "execution_count": null,
      "outputs": [
        {
          "output_type": "stream",
          "name": "stdout",
          "text": [
            "[[127244     60     16]\n",
            " [ 23891     25      7]\n",
            " [ 94746     10      6]\n",
            " ...\n",
            " [498432     65     15]\n",
            " [370915      5      4]\n",
            " [    65     65     65]]\n"
          ]
        }
      ]
    },
    {
      "cell_type": "markdown",
      "metadata": {
        "id": "1HmjbmR2WZag"
      },
      "source": [
        "4. Посчитайте, для скольких рецептов указана продолжительность, равная нулю. Замените для таких строк значение в данном столбце на 1."
      ]
    },
    {
      "cell_type": "code",
      "source": [
        "f1 = f.copy()\n",
        "print(np.count_nonzero(f1[:,1] == 0))\n",
        "f[f1[:,1] == 0] = 1\n",
        "print(f)"
      ],
      "metadata": {
        "colab": {
          "base_uri": "https://localhost:8080/"
        },
        "id": "udSYZuiBtGu1",
        "outputId": "ce6621b1-79ed-49ab-f793-53f33c2508fd"
      },
      "execution_count": null,
      "outputs": [
        {
          "output_type": "stream",
          "name": "stdout",
          "text": [
            "479\n",
            "[[127244     60     16]\n",
            " [ 23891     25      7]\n",
            " [ 94746     10      6]\n",
            " ...\n",
            " [498432     65     15]\n",
            " [370915      5      4]\n",
            " [ 81993    140     14]]\n"
          ]
        }
      ]
    },
    {
      "cell_type": "markdown",
      "metadata": {
        "id": "czy1UIbsWZag"
      },
      "source": [
        "5. Посчитайте, сколько уникальных рецептов находится в датасете."
      ]
    },
    {
      "cell_type": "code",
      "source": [
        "f1 = f.copy()\n",
        "print(np.unique(f1[:, 0]))"
      ],
      "metadata": {
        "colab": {
          "base_uri": "https://localhost:8080/",
          "height": 183
        },
        "id": "6zJSPatMyE0T",
        "outputId": "f5ac3ddc-76e0-474b-c35b-2c8d42365948"
      },
      "execution_count": null,
      "outputs": [
        {
          "output_type": "error",
          "ename": "NameError",
          "evalue": "ignored",
          "traceback": [
            "\u001b[0;31m---------------------------------------------------------------------------\u001b[0m",
            "\u001b[0;31mNameError\u001b[0m                                 Traceback (most recent call last)",
            "\u001b[0;32m<ipython-input-10-b8d85a88e7c9>\u001b[0m in \u001b[0;36m<module>\u001b[0;34m\u001b[0m\n\u001b[0;32m----> 1\u001b[0;31m \u001b[0mf1\u001b[0m \u001b[0;34m=\u001b[0m \u001b[0mf\u001b[0m\u001b[0;34m.\u001b[0m\u001b[0mcopy\u001b[0m\u001b[0;34m(\u001b[0m\u001b[0;34m)\u001b[0m\u001b[0;34m\u001b[0m\u001b[0;34m\u001b[0m\u001b[0m\n\u001b[0m\u001b[1;32m      2\u001b[0m \u001b[0mprint\u001b[0m\u001b[0;34m(\u001b[0m\u001b[0mnp\u001b[0m\u001b[0;34m.\u001b[0m\u001b[0munique\u001b[0m\u001b[0;34m(\u001b[0m\u001b[0mf1\u001b[0m\u001b[0;34m[\u001b[0m\u001b[0;34m:\u001b[0m\u001b[0;34m,\u001b[0m \u001b[0;36m0\u001b[0m\u001b[0;34m]\u001b[0m\u001b[0;34m)\u001b[0m\u001b[0;34m)\u001b[0m\u001b[0;34m\u001b[0m\u001b[0;34m\u001b[0m\u001b[0m\n",
            "\u001b[0;31mNameError\u001b[0m: name 'f' is not defined"
          ]
        }
      ]
    },
    {
      "cell_type": "markdown",
      "metadata": {
        "id": "c08ImSUQWZag"
      },
      "source": [
        "6. Сколько и каких различных значений кол-ва ингредиентов присутвует в рецептах из датасета?"
      ]
    },
    {
      "cell_type": "code",
      "source": [
        "f1 = f.copy()\n",
        "print(np.unique(f1[:, 2]))\n",
        "print(np.unique(f1[:, 2]).size)"
      ],
      "metadata": {
        "colab": {
          "base_uri": "https://localhost:8080/"
        },
        "id": "IEfvu-sQ1uD7",
        "outputId": "a419be6d-9b1c-420d-b3a5-3f7083031b91"
      },
      "execution_count": null,
      "outputs": [
        {
          "output_type": "stream",
          "name": "stdout",
          "text": [
            "[ 1  2  3  4  5  6  7  8  9 10 11 12 13 14 15 16 17 18 19 20 21 22 23 24\n",
            " 25 26 27 28 29 30 31 32 33 34 35 37 39]\n",
            "37\n"
          ]
        }
      ]
    },
    {
      "cell_type": "markdown",
      "metadata": {
        "id": "t3u4MbS0WZah"
      },
      "source": [
        "7. Создайте версию массива, содержащую информацию только о рецептах, состоящих не более чем из 5 ингредиентов."
      ]
    },
    {
      "cell_type": "code",
      "source": [
        "f1 = f.copy()\n",
        "vers_1 = f1[f1[:, 2] <= 5] \n",
        "print(vers_1)"
      ],
      "metadata": {
        "colab": {
          "base_uri": "https://localhost:8080/"
        },
        "id": "ad_faJxs1uuQ",
        "outputId": "116307f3-68f0-41a4-f279-2bf38913c84b"
      },
      "execution_count": null,
      "outputs": [
        {
          "output_type": "stream",
          "name": "stdout",
          "text": [
            "[[446597     15      5]\n",
            " [204134      5      3]\n",
            " [ 25623      6      4]\n",
            " ...\n",
            " [ 52088     60      5]\n",
            " [128811     15      4]\n",
            " [370915      5      4]]\n"
          ]
        }
      ]
    },
    {
      "cell_type": "markdown",
      "metadata": {
        "id": "KE0v3wcxWZah"
      },
      "source": [
        "8. Для каждого рецепта посчитайте, сколько в среднем ингредиентов приходится на одну минуту рецепта. Найдите максимальное значение этой величины для всего датасета"
      ]
    },
    {
      "cell_type": "code",
      "source": [
        "f1 = f.copy()\n",
        "masivik = f1[:, 2] / f1[:, 1]\n",
        "print(masivik)\n",
        "print(masivik.max())"
      ],
      "metadata": {
        "colab": {
          "base_uri": "https://localhost:8080/"
        },
        "id": "PEAGhG3EDkvx",
        "outputId": "9e3d8d66-167c-4e84-f8e1-60495ab227e8"
      },
      "execution_count": null,
      "outputs": [
        {
          "output_type": "stream",
          "name": "stdout",
          "text": [
            "[0.26666667 0.28       0.6        ... 0.23076923 0.8        0.1       ]\n",
            "23.0\n"
          ]
        }
      ]
    },
    {
      "cell_type": "markdown",
      "metadata": {
        "id": "L3UVx6qmWZah"
      },
      "source": [
        "9. Вычислите среднее количество ингредиентов для топ-100 рецептов с наибольшей продолжительностью"
      ]
    },
    {
      "cell_type": "code",
      "source": [
        "f1 = f.copy()\n",
        "kols = np.argsort(f[:, 1])[-100:]\n",
        "print(np.mean(f[kols][:, 2]))"
      ],
      "metadata": {
        "colab": {
          "base_uri": "https://localhost:8080/"
        },
        "id": "rBH96C3fDlT1",
        "outputId": "bba8d557-5b12-4478-f780-6a7bf19041d3"
      },
      "execution_count": null,
      "outputs": [
        {
          "output_type": "stream",
          "name": "stdout",
          "text": [
            "6.61\n"
          ]
        }
      ]
    },
    {
      "cell_type": "markdown",
      "metadata": {
        "id": "PYJwE3tIWZah"
      },
      "source": [
        "10. Выберите случайным образом и выведите информацию о 10 различных рецептах"
      ]
    },
    {
      "cell_type": "code",
      "source": [
        "f1 = f.copy()\n",
        "print(f1[np.random.randint(0, f1.shape[0], 10)])"
      ],
      "metadata": {
        "id": "iJiXW2eJVp7r",
        "colab": {
          "base_uri": "https://localhost:8080/"
        },
        "outputId": "214264ee-f152-4eed-f6a2-0eb644940696"
      },
      "execution_count": null,
      "outputs": [
        {
          "output_type": "stream",
          "name": "stdout",
          "text": [
            "[[ 87678    190     12]\n",
            " [399346     40     11]\n",
            " [373198     60     18]\n",
            " [ 26835     70      9]\n",
            " [ 23765     22      8]\n",
            " [133993     60     17]\n",
            " [491187    270      9]\n",
            " [297873      5      3]\n",
            " [239533     80      6]\n",
            " [329425    125     11]]\n"
          ]
        }
      ]
    },
    {
      "cell_type": "markdown",
      "metadata": {
        "id": "Vr6-ScObWZai"
      },
      "source": [
        "11. Выведите процент рецептов, кол-во ингредиентов в которых меньше среднего."
      ]
    },
    {
      "cell_type": "code",
      "source": [
        "f1 = f.copy()\n",
        "sr = np.mean(f1[:, 2])\n",
        "print((np.count_nonzero(f1[:, 2] < sr) * 100) / f.shape[0])"
      ],
      "metadata": {
        "id": "RXGVuauEVqc5",
        "colab": {
          "base_uri": "https://localhost:8080/"
        },
        "outputId": "741912f5-f536-4493-b1ad-7b6c1baa9de0"
      },
      "execution_count": null,
      "outputs": [
        {
          "output_type": "stream",
          "name": "stdout",
          "text": [
            "58.989\n"
          ]
        }
      ]
    },
    {
      "cell_type": "markdown",
      "metadata": {
        "id": "fz_2XLpqWZai"
      },
      "source": [
        "12. Назовем \"простым\" такой рецепт, длительность выполнения которого не больше 20 минут и кол-во ингредиентов в котором не больше 5. Создайте версию датасета с дополнительным столбцом, значениями которого являются 1, если рецепт простой, и 0 в противном случае."
      ]
    },
    {
      "cell_type": "code",
      "source": [
        "f1 = f.copy()\n",
        "mask = (f1[:, 1] <= 20) & (f1[:, 2] <= 5).astype(int)\n",
        "mask_data = np.concatenate((f1, mask.reshape(1, mask.size).T), axis = 1)\n",
        "print(mask_data)"
      ],
      "metadata": {
        "id": "6Pu41CC8VrIy",
        "colab": {
          "base_uri": "https://localhost:8080/"
        },
        "outputId": "c4b6edd9-753e-4e80-e712-3b80c54fe761"
      },
      "execution_count": null,
      "outputs": [
        {
          "output_type": "stream",
          "name": "stdout",
          "text": [
            "[[127244     60     16      0]\n",
            " [ 23891     25      7      0]\n",
            " [ 94746     10      6      0]\n",
            " ...\n",
            " [498432     65     15      0]\n",
            " [370915      5      4      1]\n",
            " [ 81993    140     14      0]]\n"
          ]
        }
      ]
    },
    {
      "cell_type": "markdown",
      "metadata": {
        "id": "8LhKszROWZai"
      },
      "source": [
        "13. Выведите процент \"простых\" рецептов в датасете"
      ]
    },
    {
      "cell_type": "code",
      "source": [
        "f1 = f.copy()\n",
        "simple_set =  np.count_nonzero(mask_data[:, 3])\n",
        "print((simple_set * 100) / f1.shape[0])"
      ],
      "metadata": {
        "id": "qZj7tQz7VrwC",
        "colab": {
          "base_uri": "https://localhost:8080/"
        },
        "outputId": "9e0bfb52-10d4-4053-c7a8-ee982da332c7"
      },
      "execution_count": null,
      "outputs": [
        {
          "output_type": "stream",
          "name": "stdout",
          "text": [
            "9.943\n"
          ]
        }
      ]
    },
    {
      "cell_type": "markdown",
      "metadata": {
        "id": "EYuwEuiKWZai"
      },
      "source": [
        "14. Разделим рецепты на группы по следующему правилу. Назовем рецепты короткими, если их продолжительность составляет менее 10 минут; стандартными, если их продолжительность составляет более 10, но менее 20 минут; и длинными, если их продолжительность составляет не менее 20 минут. Создайте трехмерный массив, где нулевая ось отвечает за номер группы (короткий, стандартный или длинный рецепт), первая ось - за сам рецепт и вторая ось - за характеристики рецепта. Выберите максимальное количество рецептов из каждой группы таким образом, чтобы было возможно сформировать трехмерный массив. Выведите форму полученного массива."
      ]
    },
    {
      "cell_type": "code",
      "execution_count": null,
      "metadata": {
        "id": "hg-7tyGCWZai",
        "colab": {
          "base_uri": "https://localhost:8080/"
        },
        "outputId": "a26a3c0d-e4e0-4fd2-b648-acafe49172de"
      },
      "outputs": [
        {
          "output_type": "stream",
          "name": "stdout",
          "text": [
            "[[[ 67660      5      6]\n",
            "  [366174      7      9]\n",
            "  [204134      5      3]\n",
            "  ...\n",
            "  [420725      5      3]\n",
            "  [     1      1      1]\n",
            "  [370915      5      4]]\n",
            "\n",
            " [[ 94746     10      6]\n",
            "  [ 33941     18      9]\n",
            "  [446597     15      5]\n",
            "  ...\n",
            "  [  9831     15      7]\n",
            "  [335859     12     14]\n",
            "  [256812     10      3]]\n",
            "\n",
            " [[127244     60     16]\n",
            "  [ 23891     25      7]\n",
            "  [157911     60     14]\n",
            "  ...\n",
            "  [168901     25      7]\n",
            "  [392339     35     13]\n",
            "  [206732     45     10]]]\n"
          ]
        }
      ],
      "source": [
        "f1 = f.copy()\n",
        "mask_smo = f1[f1[:, 1] < 10]\n",
        "mask_nor = f1[(f1[:, 1] >= 10) & (f1[:, 1] < 20)]\n",
        "mask_big = f1[f1[:, 1] >= 20]\n",
        "max_kol = np.min([mask_smo.shape[0], mask_nor.shape[0], mask_big.shape[0]])\n",
        "res_mas = np.array([mask_smo[:max_kol], mask_nor[:max_kol], mask_big[:max_kol]])\n",
        "print(res_mas)\n",
        "\n",
        "\n",
        "\n"
      ]
    }
  ],
  "metadata": {
    "kernelspec": {
      "display_name": "Python 3 (ipykernel)",
      "language": "python",
      "name": "python3"
    },
    "language_info": {
      "codemirror_mode": {
        "name": "ipython",
        "version": 3
      },
      "file_extension": ".py",
      "mimetype": "text/x-python",
      "name": "python",
      "nbconvert_exporter": "python",
      "pygments_lexer": "ipython3",
      "version": "3.9.12"
    },
    "colab": {
      "provenance": []
    }
  },
  "nbformat": 4,
  "nbformat_minor": 0
}